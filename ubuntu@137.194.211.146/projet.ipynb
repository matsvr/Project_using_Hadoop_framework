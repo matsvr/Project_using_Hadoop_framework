{
 "cells": [
  {
   "cell_type": "code",
   "execution_count": null,
   "metadata": {},
   "outputs": [],
   "source": [
    "!pip install pyspark numpy pandas py4j"
   ]
  },
  {
   "cell_type": "code",
   "execution_count": null,
   "metadata": {},
   "outputs": [],
   "source": [
    "from pyspark.sql import SparkSession\n",
    "from pyspark.sql.functions import to_date, dayofweek, dayofmonth, month, year\n",
    "from pyspark.ml import Pipeline\n",
    "from pyspark.ml.feature import StringIndexer, OneHotEncoder, VectorAssembler\n",
    "from pyspark.ml.regression import LinearRegression\n",
    "from pyspark.ml.evaluation import RegressionEvaluator\n",
    "from pyspark.sql import functions as F"
   ]
  },
  {
   "cell_type": "code",
   "execution_count": null,
   "metadata": {},
   "outputs": [],
   "source": [
    "spark = SparkSession.\\\n",
    "    builder.\\\n",
    "    appName(\"pyspark-notebook\").\\\n",
    "    master(\"spark://spark-master:7077\").\\\n",
    "    config(\"spark.executor.memory\", \"512m\").\\\n",
    "    getOrCreate()"
   ]
  },
  {
   "cell_type": "code",
   "execution_count": null,
   "metadata": {},
   "outputs": [],
   "source": [
    "flightprices = spark.read.csv(\n",
    "    \"./extrait_flight.csv\", header=True, inferSchema=True)"
   ]
  },
  {
   "cell_type": "code",
   "execution_count": null,
   "metadata": {},
   "outputs": [],
   "source": [
    "first15_columns = flightprices.columns[:15]\n",
    "flightprices = flightprices.select(*first15_columns)\n",
    "flightprices.show(n=10)"
   ]
  },
  {
   "cell_type": "code",
   "execution_count": null,
   "metadata": {},
   "outputs": [],
   "source": [
    "# Liste des colonnes de date, des colonnes numériques et des colonnes booléennes\n",
    "bool_columns = [\"isBasicEconomy\", \"isRefundable\", \"isNonStop\"]\n",
    "date_columns = [\"searchDate\", \"flightDate\"]\n",
    "numeric_columns = [\"elapsedDays\", \"baseFare\",\n",
    "                   \"totalFare\", \"seatsRemaining\", \"totalTravelDistance\"]\n",
    "string_columns = [\"legId\", \"startingAirport\",\n",
    "                  \"destinationAirport\", \"fareBasisCode\", \"travelDuration\"]"
   ]
  },
  {
   "cell_type": "code",
   "execution_count": null,
   "metadata": {},
   "outputs": [],
   "source": [
    "# Conversion des colonnes booléennes en entiers\n",
    "for bool_col in bool_columns:\n",
    "    flightprices = flightprices.withColumn(\n",
    "        bool_col, F.col(bool_col).cast(\"integer\"))"
   ]
  },
  {
   "cell_type": "code",
   "execution_count": null,
   "metadata": {},
   "outputs": [],
   "source": [
    "# Conversion des chaînes de caractères de date en type de date\n",
    "for date_col in date_columns:\n",
    "    flightprices = flightprices.withColumn(\n",
    "        date_col, to_date(flightprices[date_col], 'yyyy-MM-dd'))\n",
    "\n",
    "# Extraction des composantes de la date\n",
    "for date_col in date_columns:\n",
    "    flightprices = flightprices.withColumn(date_col + \"_year\", year(date_col))\\\n",
    "        .withColumn(date_col + \"_month\", month(date_col))\\\n",
    "        .withColumn(date_col + \"_dayOfMonth\", dayofmonth(date_col))\\\n",
    "        .withColumn(date_col + \"_dayOfWeek\", dayofweek(date_col))"
   ]
  },
  {
   "cell_type": "code",
   "execution_count": null,
   "metadata": {},
   "outputs": [],
   "source": [
    "# Création de la liste des colonnes pour l'assembleur de vecteurs\n",
    "date_features = [col + \"_\" + feature for col in date_columns for feature in [\n",
    "    \"year\", \"month\", \"dayOfMonth\", \"dayOfWeek\"]]\n",
    "assembler_inputs = [encoder.getOutputCol()\n",
    "                    for encoder in encoders] + date_features + numeric_columns"
   ]
  },
  {
   "cell_type": "code",
   "execution_count": null,
   "metadata": {},
   "outputs": [],
   "source": [
    "# Assemblage des vecteurs de fonctionnalités\n",
    "assembler = VectorAssembler(inputCols=assembler_inputs, outputCol=\"features\")\n",
    "\n",
    "# Modèle de régression linéaire\n",
    "lr = LinearRegression(featuresCol=\"features\", labelCol=\"totalFare\")\n",
    "\n",
    "# Pipeline\n",
    "pipeline = Pipeline(stages=indexers + encoders + [assembler, lr])"
   ]
  },
  {
   "cell_type": "code",
   "execution_count": null,
   "metadata": {},
   "outputs": [],
   "source": [
    "# Division des données\n",
    "(train_data, test_data) = flightprices.randomSplit([0.8, 0.2])"
   ]
  },
  {
   "cell_type": "code",
   "execution_count": null,
   "metadata": {},
   "outputs": [],
   "source": [
    "# Entraînement du modèle\n",
    "model = pipeline.fit(train_data)\n",
    "\n",
    "# Prédictions\n",
    "predictions = model.transform(test_data)"
   ]
  },
  {
   "cell_type": "code",
   "execution_count": null,
   "metadata": {},
   "outputs": [],
   "source": [
    "# Évaluation\n",
    "evaluator = RegressionEvaluator(\n",
    "    labelCol=\"totalFare\", predictionCol=\"prediction\", metricName=\"rmse\")\n",
    "rmse = evaluator.evaluate(predictions)\n",
    "print(f\"Root Mean Squared Error (RMSE) on test data = {rmse}\")"
   ]
  }
 ],
 "metadata": {
  "language_info": {
   "name": "python"
  }
 },
 "nbformat": 4,
 "nbformat_minor": 2
}
